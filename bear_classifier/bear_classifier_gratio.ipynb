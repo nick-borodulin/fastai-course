{
 "cells": [
  {
   "cell_type": "code",
   "execution_count": 22,
   "id": "5401d2a8-c434-4aa0-aed7-abb0e0d36bef",
   "metadata": {},
   "outputs": [],
   "source": [
    "#|default_exp app"
   ]
  },
  {
   "cell_type": "code",
   "execution_count": 23,
   "id": "fdc86b3f-99a3-41b0-9674-a2d204ad3b5e",
   "metadata": {},
   "outputs": [],
   "source": [
    "#|export\n",
    "from fastai.vision.all import *\n",
    "import gradio as gr"
   ]
  },
  {
   "cell_type": "code",
   "execution_count": 24,
   "id": "df0ef595-55d8-446e-9eec-1a475790e43a",
   "metadata": {},
   "outputs": [],
   "source": [
    "#|export\n",
    "learn_inf = load_learner('bears.pkl')"
   ]
  },
  {
   "cell_type": "code",
   "execution_count": 25,
   "id": "1096b0c2-5909-4c55-a8b2-38fcb0d3f9bb",
   "metadata": {},
   "outputs": [],
   "source": [
    "#|export\n",
    "categories = learn_inf.dls.vocab\n",
    "\n",
    "def classify_image(img):\n",
    "    prediction,_,probability = learn_inf.predict(img)\n",
    "    return dict(zip(categories, map(float, probability)))"
   ]
  },
  {
   "cell_type": "code",
   "execution_count": 26,
   "id": "03c076f2-8423-4cbd-a3e4-aa8c2db49e9b",
   "metadata": {},
   "outputs": [
    {
     "name": "stdout",
     "output_type": "stream",
     "text": [
      "* Running on local URL:  http://127.0.0.1:7861\n",
      "\n",
      "To create a public link, set `share=True` in `launch()`.\n"
     ]
    },
    {
     "data": {
      "text/plain": []
     },
     "execution_count": 26,
     "metadata": {},
     "output_type": "execute_result"
    }
   ],
   "source": [
    "#|export\n",
    "image = gr.Image(height=192, width=192)\n",
    "label = gr.Label()\n",
    "examples = ['black.jpg', 'grizzly.jpeg', 'teddy.jpeg']\n",
    "interface = gr.Interface(fn=classify_image, inputs=image, outputs=label, examples=examples)\n",
    "interface.launch(inline=False)"
   ]
  },
  {
   "cell_type": "markdown",
   "id": "6048ba07-0dd8-43cc-a3e1-262bc493a3b3",
   "metadata": {},
   "source": [
    "# Exporting notebook"
   ]
  },
  {
   "cell_type": "code",
   "execution_count": 27,
   "id": "53821e45-2394-4e11-9c4b-7040d5b7566c",
   "metadata": {},
   "outputs": [],
   "source": [
    "import nbdev.export\n",
    "import shutil"
   ]
  },
  {
   "cell_type": "code",
   "execution_count": 32,
   "id": "c0857ced-cccb-4645-b9b9-125ff00bdfa6",
   "metadata": {},
   "outputs": [],
   "source": [
    "shutil.rmtree('app', ignore_errors=True)"
   ]
  },
  {
   "cell_type": "code",
   "execution_count": 33,
   "id": "8d535175-9d7f-47c1-a3d5-6594d7137ce1",
   "metadata": {},
   "outputs": [],
   "source": [
    "nbdev.export.nb_export('bear_classifier_gratio.ipynb', 'app')"
   ]
  },
  {
   "cell_type": "code",
   "execution_count": null,
   "id": "910acb5e-ffcb-4d0c-9774-5c07028115f0",
   "metadata": {},
   "outputs": [],
   "source": []
  }
 ],
 "metadata": {
  "kernelspec": {
   "display_name": "Python 3 (ipykernel)",
   "language": "python",
   "name": "python3"
  },
  "language_info": {
   "codemirror_mode": {
    "name": "ipython",
    "version": 3
   },
   "file_extension": ".py",
   "mimetype": "text/x-python",
   "name": "python",
   "nbconvert_exporter": "python",
   "pygments_lexer": "ipython3",
   "version": "3.12.0"
  }
 },
 "nbformat": 4,
 "nbformat_minor": 5
}
